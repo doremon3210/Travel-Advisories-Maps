{
 "cells": [
  {
   "cell_type": "code",
   "execution_count": 219,
   "metadata": {},
   "outputs": [],
   "source": [
    "import requests\n",
    "import pandas as pd\n",
    "from datetime import date\n",
    "import pycountry\n",
    "import plotly.express as px"
   ]
  },
  {
   "cell_type": "code",
   "execution_count": 220,
   "metadata": {},
   "outputs": [],
   "source": [
    "URL = requests.get(\"https://travel.state.gov/content/travel/en/traveladvisories/traveladvisories.html/\")"
   ]
  },
  {
   "cell_type": "code",
   "execution_count": 221,
   "metadata": {},
   "outputs": [],
   "source": [
    "df = pd.read_html(URL.text)[0]"
   ]
  },
  {
   "cell_type": "code",
   "execution_count": 222,
   "metadata": {},
   "outputs": [
    {
     "data": {
      "text/html": [
       "<div>\n",
       "<style scoped>\n",
       "    .dataframe tbody tr th:only-of-type {\n",
       "        vertical-align: middle;\n",
       "    }\n",
       "\n",
       "    .dataframe tbody tr th {\n",
       "        vertical-align: top;\n",
       "    }\n",
       "\n",
       "    .dataframe thead th {\n",
       "        text-align: right;\n",
       "    }\n",
       "</style>\n",
       "<table border=\"1\" class=\"dataframe\">\n",
       "  <thead>\n",
       "    <tr style=\"text-align: right;\">\n",
       "      <th></th>\n",
       "      <th>Advisory</th>\n",
       "      <th>Level</th>\n",
       "      <th>Date Updated</th>\n",
       "    </tr>\n",
       "  </thead>\n",
       "  <tbody>\n",
       "    <tr>\n",
       "      <th>0</th>\n",
       "      <td>Liechtenstein Travel Advisory</td>\n",
       "      <td>Level 1: Exercise Normal Precautions</td>\n",
       "      <td>April 19, 2022</td>\n",
       "    </tr>\n",
       "    <tr>\n",
       "      <th>1</th>\n",
       "      <td>North Macedonia Travel Advisory</td>\n",
       "      <td>Level 1: Exercise Normal Precautions</td>\n",
       "      <td>April 19, 2022</td>\n",
       "    </tr>\n",
       "    <tr>\n",
       "      <th>2</th>\n",
       "      <td>Nauru Travel Advisory</td>\n",
       "      <td>Level 1: Exercise Normal Precautions</td>\n",
       "      <td>April 18, 2022</td>\n",
       "    </tr>\n",
       "    <tr>\n",
       "      <th>3</th>\n",
       "      <td>Palau Travel Advisory</td>\n",
       "      <td>Level 1: Exercise Normal Precautions</td>\n",
       "      <td>April 18, 2022</td>\n",
       "    </tr>\n",
       "    <tr>\n",
       "      <th>4</th>\n",
       "      <td>Burma (Myanmar) Travel Advisory</td>\n",
       "      <td>Level 4: Do Not Travel</td>\n",
       "      <td>April 18, 2022</td>\n",
       "    </tr>\n",
       "    <tr>\n",
       "      <th>...</th>\n",
       "      <td>...</td>\n",
       "      <td>...</td>\n",
       "      <td>...</td>\n",
       "    </tr>\n",
       "    <tr>\n",
       "      <th>207</th>\n",
       "      <td>Republic of the Congo Travel Advisory</td>\n",
       "      <td>Level 2: Exercise Increased Caution</td>\n",
       "      <td>April 19, 2022</td>\n",
       "    </tr>\n",
       "    <tr>\n",
       "      <th>208</th>\n",
       "      <td>Guinea-Bissau Travel Advisory</td>\n",
       "      <td>Level 3: Reconsider Travel</td>\n",
       "      <td>April 18, 2022</td>\n",
       "    </tr>\n",
       "    <tr>\n",
       "      <th>209</th>\n",
       "      <td>Bonaire Travel Advisory</td>\n",
       "      <td>Level 1: Exercise Normal Precautions</td>\n",
       "      <td>April 18, 2022</td>\n",
       "    </tr>\n",
       "    <tr>\n",
       "      <th>210</th>\n",
       "      <td>Sint Eustatius Travel Advisory</td>\n",
       "      <td>Level 1: Exercise Normal Precautions</td>\n",
       "      <td>April 18, 2022</td>\n",
       "    </tr>\n",
       "    <tr>\n",
       "      <th>211</th>\n",
       "      <td>Saba Travel Advisory</td>\n",
       "      <td>Level 1: Exercise Normal Precautions</td>\n",
       "      <td>April 25, 2022</td>\n",
       "    </tr>\n",
       "  </tbody>\n",
       "</table>\n",
       "<p>212 rows × 3 columns</p>\n",
       "</div>"
      ],
      "text/plain": [
       "                                  Advisory  \\\n",
       "0            Liechtenstein Travel Advisory   \n",
       "1          North Macedonia Travel Advisory   \n",
       "2                    Nauru Travel Advisory   \n",
       "3                    Palau Travel Advisory   \n",
       "4          Burma (Myanmar) Travel Advisory   \n",
       "..                                     ...   \n",
       "207  Republic of the Congo Travel Advisory   \n",
       "208          Guinea-Bissau Travel Advisory   \n",
       "209                Bonaire Travel Advisory   \n",
       "210         Sint Eustatius Travel Advisory   \n",
       "211                   Saba Travel Advisory   \n",
       "\n",
       "                                    Level    Date Updated  \n",
       "0    Level 1: Exercise Normal Precautions  April 19, 2022  \n",
       "1    Level 1: Exercise Normal Precautions  April 19, 2022  \n",
       "2    Level 1: Exercise Normal Precautions  April 18, 2022  \n",
       "3    Level 1: Exercise Normal Precautions  April 18, 2022  \n",
       "4                  Level 4: Do Not Travel  April 18, 2022  \n",
       "..                                    ...             ...  \n",
       "207   Level 2: Exercise Increased Caution  April 19, 2022  \n",
       "208            Level 3: Reconsider Travel  April 18, 2022  \n",
       "209  Level 1: Exercise Normal Precautions  April 18, 2022  \n",
       "210  Level 1: Exercise Normal Precautions  April 18, 2022  \n",
       "211  Level 1: Exercise Normal Precautions  April 25, 2022  \n",
       "\n",
       "[212 rows x 3 columns]"
      ]
     },
     "execution_count": 222,
     "metadata": {},
     "output_type": "execute_result"
    }
   ],
   "source": [
    "df"
   ]
  },
  {
   "cell_type": "code",
   "execution_count": 223,
   "metadata": {},
   "outputs": [],
   "source": [
    "df.sort_values(by=['Level'], inplace=True)"
   ]
  },
  {
   "cell_type": "code",
   "execution_count": 224,
   "metadata": {},
   "outputs": [],
   "source": [
    "df[\"Advisory\"] = df[\"Advisory\"].str.replace(\" Travel Advisory\", \"\")"
   ]
  },
  {
   "cell_type": "code",
   "execution_count": 225,
   "metadata": {},
   "outputs": [],
   "source": [
    "df.rename(columns={\"Advisory\": \"Country\"}, inplace=True)"
   ]
  },
  {
   "cell_type": "code",
   "execution_count": 226,
   "metadata": {},
   "outputs": [],
   "source": [
    "df[\"Date Updated\"] = pd.to_datetime(df[\"Date Updated\"])\n",
    "df[\"Date Updated\"] = df[\"Date Updated\"].dt.strftime('%Y-%m-%d')"
   ]
  },
  {
   "cell_type": "code",
   "execution_count": 227,
   "metadata": {},
   "outputs": [
    {
     "data": {
      "text/html": [
       "<div>\n",
       "<style scoped>\n",
       "    .dataframe tbody tr th:only-of-type {\n",
       "        vertical-align: middle;\n",
       "    }\n",
       "\n",
       "    .dataframe tbody tr th {\n",
       "        vertical-align: top;\n",
       "    }\n",
       "\n",
       "    .dataframe thead th {\n",
       "        text-align: right;\n",
       "    }\n",
       "</style>\n",
       "<table border=\"1\" class=\"dataframe\">\n",
       "  <thead>\n",
       "    <tr style=\"text-align: right;\">\n",
       "      <th></th>\n",
       "      <th>Country</th>\n",
       "      <th>Level</th>\n",
       "      <th>Date Updated</th>\n",
       "    </tr>\n",
       "  </thead>\n",
       "  <tbody>\n",
       "    <tr>\n",
       "      <th>5</th>\n",
       "      <td>Worldwide Caution</td>\n",
       "      <td>Caution</td>\n",
       "      <td>2019-01-15</td>\n",
       "    </tr>\n",
       "    <tr>\n",
       "      <th>0</th>\n",
       "      <td>Liechtenstein</td>\n",
       "      <td>Level 1: Exercise Normal Precautions</td>\n",
       "      <td>2022-04-19</td>\n",
       "    </tr>\n",
       "    <tr>\n",
       "      <th>111</th>\n",
       "      <td>Malawi</td>\n",
       "      <td>Level 1: Exercise Normal Precautions</td>\n",
       "      <td>2022-04-18</td>\n",
       "    </tr>\n",
       "    <tr>\n",
       "      <th>210</th>\n",
       "      <td>Sint Eustatius</td>\n",
       "      <td>Level 1: Exercise Normal Precautions</td>\n",
       "      <td>2022-04-18</td>\n",
       "    </tr>\n",
       "    <tr>\n",
       "      <th>104</th>\n",
       "      <td>Kuwait</td>\n",
       "      <td>Level 1: Exercise Normal Precautions</td>\n",
       "      <td>2022-04-20</td>\n",
       "    </tr>\n",
       "    <tr>\n",
       "      <th>...</th>\n",
       "      <td>...</td>\n",
       "      <td>...</td>\n",
       "      <td>...</td>\n",
       "    </tr>\n",
       "    <tr>\n",
       "      <th>160</th>\n",
       "      <td>Ukraine</td>\n",
       "      <td>Level 4: Do Not Travel</td>\n",
       "      <td>2022-04-19</td>\n",
       "    </tr>\n",
       "    <tr>\n",
       "      <th>164</th>\n",
       "      <td>Venezuela</td>\n",
       "      <td>Level 4: Do Not Travel</td>\n",
       "      <td>2022-04-18</td>\n",
       "    </tr>\n",
       "    <tr>\n",
       "      <th>27</th>\n",
       "      <td>Hong Kong</td>\n",
       "      <td>Level 4: Do Not Travel</td>\n",
       "      <td>2022-04-25</td>\n",
       "    </tr>\n",
       "    <tr>\n",
       "      <th>146</th>\n",
       "      <td>Sudan</td>\n",
       "      <td>Level 4: Do Not Travel</td>\n",
       "      <td>2022-04-19</td>\n",
       "    </tr>\n",
       "    <tr>\n",
       "      <th>118</th>\n",
       "      <td>Mexico</td>\n",
       "      <td>Other</td>\n",
       "      <td>2022-04-20</td>\n",
       "    </tr>\n",
       "  </tbody>\n",
       "</table>\n",
       "<p>212 rows × 3 columns</p>\n",
       "</div>"
      ],
      "text/plain": [
       "               Country                                 Level Date Updated\n",
       "5    Worldwide Caution                               Caution   2019-01-15\n",
       "0        Liechtenstein  Level 1: Exercise Normal Precautions   2022-04-19\n",
       "111             Malawi  Level 1: Exercise Normal Precautions   2022-04-18\n",
       "210     Sint Eustatius  Level 1: Exercise Normal Precautions   2022-04-18\n",
       "104             Kuwait  Level 1: Exercise Normal Precautions   2022-04-20\n",
       "..                 ...                                   ...          ...\n",
       "160            Ukraine                Level 4: Do Not Travel   2022-04-19\n",
       "164          Venezuela                Level 4: Do Not Travel   2022-04-18\n",
       "27           Hong Kong                Level 4: Do Not Travel   2022-04-25\n",
       "146              Sudan                Level 4: Do Not Travel   2022-04-19\n",
       "118             Mexico                                 Other   2022-04-20\n",
       "\n",
       "[212 rows x 3 columns]"
      ]
     },
     "execution_count": 227,
     "metadata": {},
     "output_type": "execute_result"
    }
   ],
   "source": [
    "df"
   ]
  },
  {
   "cell_type": "code",
   "execution_count": 228,
   "metadata": {},
   "outputs": [],
   "source": [
    "today = date.today().strftime(\"%Y-%m-%d\")"
   ]
  },
  {
   "cell_type": "code",
   "execution_count": 229,
   "metadata": {},
   "outputs": [],
   "source": [
    "df.to_excel(\"Travel Advisories \" + today + \".xlsx\", index=False)"
   ]
  },
  {
   "cell_type": "code",
   "execution_count": 230,
   "metadata": {},
   "outputs": [],
   "source": [
    "df.replace('Burma (Myanmar)', 'Myanmar', inplace=True)\n",
    "df.replace('Brunei', 'Brunei Darussalam', inplace=True)\n",
    "df.replace('Macau', 'Macao', inplace=True)\n",
    "df.replace('Curacao', 'Curaçao', inplace=True)\n",
    "df.replace('Sint Maarten', 'Sint Maarten (Dutch part)', inplace=True)\n",
    "df.replace('Iran', 'Iran, Islamic Republic of', inplace=True)\n",
    "df.replace('Israel, The West Bank and Gaza', 'Israel', inplace=True)\n",
    "df.replace('North Korea (Democratic People\\'s Republic of Korea)', 'North Korea', inplace=True)\n",
    "df.replace('The Kyrgyz Republic', 'Kyrgyzstan', inplace=True)\n",
    "df.replace('Laos', \"Lao People's Democratic Republic\", inplace=True)\n",
    "df.replace('Micronesia', 'Federated States of Micronesia', inplace=True)\n",
    "df.replace('Russia', 'Russian Federation', inplace=True)\n",
    "df.replace('Solomon Island', 'Solomon Islands', inplace=True)\n",
    "df.replace('Syria', 'Syrian Arab Republic', inplace=True)\n",
    "df.replace('The Bahamas', 'Bahamas', inplace=True)\n",
    "df.replace('Cote d\\'Ivoire', 'Côte d\\'Ivoire', inplace=True)\n",
    "df.replace('The Gambia', 'Gambia', inplace=True)\n",
    "df.replace('Democratic Republic of the Congo', 'Congo, The Democratic Republic of the', inplace=True)\n",
    "df.replace('Bonaire', 'Bonaire, Sint Eustatius and Saba', inplace=True)\n",
    "df.replace('French West Indies', 'Guadeloupe', inplace=True)"
   ]
  },
  {
   "cell_type": "code",
   "execution_count": 231,
   "metadata": {},
   "outputs": [],
   "source": [
    "def alpha3code(column):\n",
    "    CODE=[]\n",
    "    for country in column:\n",
    "        try:\n",
    "            code=pycountry.countries.lookup(country).alpha_3\n",
    "           # .alpha_3 means 3-letter country code \n",
    "           # .alpha_2 means 2-letter country code\n",
    "            CODE.append(code)\n",
    "        except:\n",
    "            CODE.append(pd.NA)\n",
    "    return CODE# create a column for code "
   ]
  },
  {
   "cell_type": "code",
   "execution_count": 232,
   "metadata": {},
   "outputs": [
    {
     "data": {
      "text/html": [
       "<div>\n",
       "<style scoped>\n",
       "    .dataframe tbody tr th:only-of-type {\n",
       "        vertical-align: middle;\n",
       "    }\n",
       "\n",
       "    .dataframe tbody tr th {\n",
       "        vertical-align: top;\n",
       "    }\n",
       "\n",
       "    .dataframe thead th {\n",
       "        text-align: right;\n",
       "    }\n",
       "</style>\n",
       "<table border=\"1\" class=\"dataframe\">\n",
       "  <thead>\n",
       "    <tr style=\"text-align: right;\">\n",
       "      <th></th>\n",
       "      <th>Country</th>\n",
       "      <th>Level</th>\n",
       "      <th>Date Updated</th>\n",
       "      <th>CODE</th>\n",
       "    </tr>\n",
       "  </thead>\n",
       "  <tbody>\n",
       "    <tr>\n",
       "      <th>5</th>\n",
       "      <td>Worldwide Caution</td>\n",
       "      <td>Caution</td>\n",
       "      <td>2019-01-15</td>\n",
       "      <td>&lt;NA&gt;</td>\n",
       "    </tr>\n",
       "    <tr>\n",
       "      <th>0</th>\n",
       "      <td>Liechtenstein</td>\n",
       "      <td>Level 1: Exercise Normal Precautions</td>\n",
       "      <td>2022-04-19</td>\n",
       "      <td>LIE</td>\n",
       "    </tr>\n",
       "    <tr>\n",
       "      <th>111</th>\n",
       "      <td>Malawi</td>\n",
       "      <td>Level 1: Exercise Normal Precautions</td>\n",
       "      <td>2022-04-18</td>\n",
       "      <td>MWI</td>\n",
       "    </tr>\n",
       "    <tr>\n",
       "      <th>210</th>\n",
       "      <td>Sint Eustatius</td>\n",
       "      <td>Level 1: Exercise Normal Precautions</td>\n",
       "      <td>2022-04-18</td>\n",
       "      <td>&lt;NA&gt;</td>\n",
       "    </tr>\n",
       "    <tr>\n",
       "      <th>104</th>\n",
       "      <td>Kuwait</td>\n",
       "      <td>Level 1: Exercise Normal Precautions</td>\n",
       "      <td>2022-04-20</td>\n",
       "      <td>KWT</td>\n",
       "    </tr>\n",
       "    <tr>\n",
       "      <th>...</th>\n",
       "      <td>...</td>\n",
       "      <td>...</td>\n",
       "      <td>...</td>\n",
       "      <td>...</td>\n",
       "    </tr>\n",
       "    <tr>\n",
       "      <th>160</th>\n",
       "      <td>Ukraine</td>\n",
       "      <td>Level 4: Do Not Travel</td>\n",
       "      <td>2022-04-19</td>\n",
       "      <td>UKR</td>\n",
       "    </tr>\n",
       "    <tr>\n",
       "      <th>164</th>\n",
       "      <td>Venezuela</td>\n",
       "      <td>Level 4: Do Not Travel</td>\n",
       "      <td>2022-04-18</td>\n",
       "      <td>VEN</td>\n",
       "    </tr>\n",
       "    <tr>\n",
       "      <th>27</th>\n",
       "      <td>Hong Kong</td>\n",
       "      <td>Level 4: Do Not Travel</td>\n",
       "      <td>2022-04-25</td>\n",
       "      <td>HKG</td>\n",
       "    </tr>\n",
       "    <tr>\n",
       "      <th>146</th>\n",
       "      <td>Sudan</td>\n",
       "      <td>Level 4: Do Not Travel</td>\n",
       "      <td>2022-04-19</td>\n",
       "      <td>SDN</td>\n",
       "    </tr>\n",
       "    <tr>\n",
       "      <th>118</th>\n",
       "      <td>Mexico</td>\n",
       "      <td>Other</td>\n",
       "      <td>2022-04-20</td>\n",
       "      <td>MEX</td>\n",
       "    </tr>\n",
       "  </tbody>\n",
       "</table>\n",
       "<p>212 rows × 4 columns</p>\n",
       "</div>"
      ],
      "text/plain": [
       "               Country                                 Level Date Updated  \\\n",
       "5    Worldwide Caution                               Caution   2019-01-15   \n",
       "0        Liechtenstein  Level 1: Exercise Normal Precautions   2022-04-19   \n",
       "111             Malawi  Level 1: Exercise Normal Precautions   2022-04-18   \n",
       "210     Sint Eustatius  Level 1: Exercise Normal Precautions   2022-04-18   \n",
       "104             Kuwait  Level 1: Exercise Normal Precautions   2022-04-20   \n",
       "..                 ...                                   ...          ...   \n",
       "160            Ukraine                Level 4: Do Not Travel   2022-04-19   \n",
       "164          Venezuela                Level 4: Do Not Travel   2022-04-18   \n",
       "27           Hong Kong                Level 4: Do Not Travel   2022-04-25   \n",
       "146              Sudan                Level 4: Do Not Travel   2022-04-19   \n",
       "118             Mexico                                 Other   2022-04-20   \n",
       "\n",
       "     CODE  \n",
       "5    <NA>  \n",
       "0     LIE  \n",
       "111   MWI  \n",
       "210  <NA>  \n",
       "104   KWT  \n",
       "..    ...  \n",
       "160   UKR  \n",
       "164   VEN  \n",
       "27    HKG  \n",
       "146   SDN  \n",
       "118   MEX  \n",
       "\n",
       "[212 rows x 4 columns]"
      ]
     },
     "execution_count": 232,
     "metadata": {},
     "output_type": "execute_result"
    }
   ],
   "source": [
    "df['CODE'] = alpha3code(df.Country)\n",
    "df"
   ]
  },
  {
   "cell_type": "code",
   "execution_count": 233,
   "metadata": {},
   "outputs": [],
   "source": [
    "df.loc[df['Country'] == 'Kosovo', 'CODE'] = \"KOS\""
   ]
  },
  {
   "cell_type": "code",
   "execution_count": 234,
   "metadata": {},
   "outputs": [],
   "source": [
    "df.dropna(inplace=True)"
   ]
  },
  {
   "cell_type": "code",
   "execution_count": 237,
   "metadata": {},
   "outputs": [
    {
     "name": "stdout",
     "output_type": "stream",
     "text": [
      "Using matplotlib backend: Qt5Agg\n"
     ]
    },
    {
     "data": {
      "application/vnd.plotly.v1+json": {
       "config": {
        "plotlyServerURL": "https://plot.ly"
       },
       "data": [
        {
         "colorscale": [
          [
           0,
           "#003875"
          ],
          [
           1,
           "#003875"
          ]
         ],
         "geo": "geo",
         "hovertemplate": "<b>%{hovertext}</b><br><br>Level=Level 1: Exercise Normal Precautions<br>CODE=%{location}<extra></extra>",
         "hovertext": [
          "Liechtenstein",
          "Malawi",
          "Kuwait",
          "South Korea",
          "Grenada",
          "Saint Vincent and The Grenadines",
          "Sint Maarten (Dutch part)",
          "Saint Lucia",
          "Saint Kitts and Nevis",
          "Montserrat",
          "Guadeloupe",
          "Curaçao",
          "Bermuda",
          "Barbados",
          "Aruba",
          "Switzerland",
          "Sweden",
          "Slovakia",
          "Romania",
          "Portugal",
          "Norway",
          "Montenegro",
          "Malaysia",
          "Mauritius",
          "Paraguay",
          "Qatar",
          "Bonaire, Sint Eustatius and Saba",
          "Georgia",
          "Gambia",
          "Gabon",
          "Dominica",
          "Canada",
          "Cambodia",
          "Bhutan",
          "Armenia",
          "Argentina",
          "British Virgin Islands",
          "French Guiana",
          "Zambia",
          "Vietnam",
          "Uzbekistan",
          "Togo",
          "Thailand",
          "Suriname",
          "Singapore",
          "Seychelles",
          "Senegal",
          "Sao Tome and Principe",
          "Rwanda",
          "Malta",
          "Luxembourg",
          "Kyrgyzstan",
          "Latvia",
          "Austria",
          "New Caledonia",
          "Mongolia",
          "French Polynesia",
          "Lithuania",
          "Fiji",
          "Australia",
          "Namibia",
          "Lesotho",
          "Bulgaria",
          "Equatorial Guinea",
          "Cabo Verde",
          "Botswana",
          "Antigua and Barbuda",
          "Anguilla",
          "Angola",
          "Andorra",
          "Palau",
          "Nauru",
          "North Macedonia",
          "Comoros",
          "Croatia",
          "Greece",
          "Hungary",
          "Finland",
          "Estonia",
          "Iceland",
          "Czech Republic",
          "Cyprus",
          "Ireland"
         ],
         "locations": [
          "LIE",
          "MWI",
          "KWT",
          "KOR",
          "GRD",
          "VCT",
          "SXM",
          "LCA",
          "KNA",
          "MSR",
          "GLP",
          "CUW",
          "BMU",
          "BRB",
          "ABW",
          "CHE",
          "SWE",
          "SVK",
          "ROU",
          "PRT",
          "NOR",
          "MNE",
          "MYS",
          "MUS",
          "PRY",
          "QAT",
          "BES",
          "GEO",
          "GMB",
          "GAB",
          "DMA",
          "CAN",
          "KHM",
          "BTN",
          "ARM",
          "ARG",
          "VGB",
          "GUF",
          "ZMB",
          "VNM",
          "UZB",
          "TGO",
          "THA",
          "SUR",
          "SGP",
          "SYC",
          "SEN",
          "STP",
          "RWA",
          "MLT",
          "LUX",
          "KGZ",
          "LVA",
          "AUT",
          "NCL",
          "MNG",
          "PYF",
          "LTU",
          "FJI",
          "AUS",
          "NAM",
          "LSO",
          "BGR",
          "GNQ",
          "CPV",
          "BWA",
          "ATG",
          "AIA",
          "AGO",
          "AND",
          "PLW",
          "NRU",
          "MKD",
          "COM",
          "HRV",
          "GRC",
          "HUN",
          "FIN",
          "EST",
          "ISL",
          "CZE",
          "CYP",
          "IRL"
         ],
         "name": "Level 1: Exercise Normal Precautions",
         "showlegend": true,
         "showscale": false,
         "type": "choropleth",
         "z": [
          1,
          1,
          1,
          1,
          1,
          1,
          1,
          1,
          1,
          1,
          1,
          1,
          1,
          1,
          1,
          1,
          1,
          1,
          1,
          1,
          1,
          1,
          1,
          1,
          1,
          1,
          1,
          1,
          1,
          1,
          1,
          1,
          1,
          1,
          1,
          1,
          1,
          1,
          1,
          1,
          1,
          1,
          1,
          1,
          1,
          1,
          1,
          1,
          1,
          1,
          1,
          1,
          1,
          1,
          1,
          1,
          1,
          1,
          1,
          1,
          1,
          1,
          1,
          1,
          1,
          1,
          1,
          1,
          1,
          1,
          1,
          1,
          1,
          1,
          1,
          1,
          1,
          1,
          1,
          1,
          1,
          1,
          1
         ]
        },
        {
         "colorscale": [
          [
           0,
           "#ffcc66"
          ],
          [
           1,
           "#ffcc66"
          ]
         ],
         "geo": "geo",
         "hovertemplate": "<b>%{hovertext}</b><br><br>Level=Level 2: Exercise Increased Caution<br>CODE=%{location}<extra></extra>",
         "hovertext": [
          "United Kingdom",
          "Serbia",
          "France",
          "Uruguay",
          "Turkey",
          "Tunisia",
          "Djibouti",
          "Timor-Leste",
          "Spain",
          "Tanzania",
          "Zimbabwe",
          "Guinea",
          "Peru",
          "Sierra Leone",
          "Eswatini",
          "Kazakhstan",
          "Tajikistan",
          "Brazil",
          "Antarctica",
          "Republic of the Congo",
          "Ghana",
          "Netherlands",
          "Eritrea",
          "Ecuador",
          "Dominican Republic",
          "Cuba",
          "Costa Rica",
          "Chile",
          "Albania",
          "Cameroon",
          "Algeria",
          "Bosnia and Herzegovina",
          "Bolivia",
          "Benin",
          "Bangladesh",
          "Bahrain",
          "Bahamas",
          "Denmark",
          "Germany",
          "Oman",
          "South Africa",
          "Philippines",
          "Israel",
          "Maldives",
          "Italy",
          "Madagascar",
          "Jordan",
          "Turks and Caicos Islands",
          "Kenya",
          "Indonesia",
          "India",
          "Trinidad and Tobago",
          "Mozambique",
          "Belize",
          "Nepal",
          "Liberia",
          "Belgium",
          "Morocco"
         ],
         "locations": [
          "GBR",
          "SRB",
          "FRA",
          "URY",
          "TUR",
          "TUN",
          "DJI",
          "TLS",
          "ESP",
          "TZA",
          "ZWE",
          "GIN",
          "PER",
          "SLE",
          "SWZ",
          "KAZ",
          "TJK",
          "BRA",
          "ATA",
          "COG",
          "GHA",
          "NLD",
          "ERI",
          "ECU",
          "DOM",
          "CUB",
          "CRI",
          "CHL",
          "ALB",
          "CMR",
          "DZA",
          "BIH",
          "BOL",
          "BEN",
          "BGD",
          "BHR",
          "BHS",
          "DNK",
          "DEU",
          "OMN",
          "ZAF",
          "PHL",
          "ISR",
          "MDV",
          "ITA",
          "MDG",
          "JOR",
          "TCA",
          "KEN",
          "IDN",
          "IND",
          "TTO",
          "MOZ",
          "BLZ",
          "NPL",
          "LBR",
          "BEL",
          "MAR"
         ],
         "name": "Level 2: Exercise Increased Caution",
         "showlegend": true,
         "showscale": false,
         "type": "choropleth",
         "z": [
          1,
          1,
          1,
          1,
          1,
          1,
          1,
          1,
          1,
          1,
          1,
          1,
          1,
          1,
          1,
          1,
          1,
          1,
          1,
          1,
          1,
          1,
          1,
          1,
          1,
          1,
          1,
          1,
          1,
          1,
          1,
          1,
          1,
          1,
          1,
          1,
          1,
          1,
          1,
          1,
          1,
          1,
          1,
          1,
          1,
          1,
          1,
          1,
          1,
          1,
          1,
          1,
          1,
          1,
          1,
          1,
          1,
          1
         ]
        },
        {
         "colorscale": [
          [
           0,
           "#ff9900"
          ],
          [
           1,
           "#ff9900"
          ]
         ],
         "geo": "geo",
         "hovertemplate": "<b>%{hovertext}</b><br><br>Level=Level 3: Reconsider Travel<br>CODE=%{location}<extra></extra>",
         "hovertext": [
          "Poland",
          "Jamaica",
          "Nigeria",
          "Burundi",
          "Azerbaijan",
          "China",
          "Chad",
          "Macao",
          "Colombia",
          "Guyana",
          "Côte d'Ivoire",
          "Guatemala",
          "New Zealand",
          "Egypt",
          "El Salvador",
          "Ethiopia",
          "Samoa",
          "Congo, The Democratic Republic of the",
          "Guinea-Bissau",
          "Honduras",
          "Lao People's Democratic Republic",
          "Niger",
          "Kosovo",
          "Mauritania",
          "Taiwan",
          "Marshall Islands",
          "Brunei Darussalam",
          "Sri Lanka",
          "Solomon Islands",
          "Cayman Islands",
          "Japan",
          "Saudi Arabia",
          "Kiribati",
          "Turkmenistan",
          "Tuvalu",
          "Uganda",
          "Nicaragua",
          "Federated States of Micronesia",
          "Panama",
          "Slovenia",
          "Vanuatu",
          "Pakistan",
          "United Arab Emirates",
          "Lebanon"
         ],
         "locations": [
          "POL",
          "JAM",
          "NGA",
          "BDI",
          "AZE",
          "CHN",
          "TCD",
          "MAC",
          "COL",
          "GUY",
          "CIV",
          "GTM",
          "NZL",
          "EGY",
          "SLV",
          "ETH",
          "WSM",
          "COD",
          "GNB",
          "HND",
          "LAO",
          "NER",
          "KOS",
          "MRT",
          "TWN",
          "MHL",
          "BRN",
          "LKA",
          "SLB",
          "CYM",
          "JPN",
          "SAU",
          "KIR",
          "TKM",
          "TUV",
          "UGA",
          "NIC",
          "FSM",
          "PAN",
          "SVN",
          "VUT",
          "PAK",
          "ARE",
          "LBN"
         ],
         "name": "Level 3: Reconsider Travel",
         "showlegend": true,
         "showscale": false,
         "type": "choropleth",
         "z": [
          1,
          1,
          1,
          1,
          1,
          1,
          1,
          1,
          1,
          1,
          1,
          1,
          1,
          1,
          1,
          1,
          1,
          1,
          1,
          1,
          1,
          1,
          1,
          1,
          1,
          1,
          1,
          1,
          1,
          1,
          1,
          1,
          1,
          1,
          1,
          1,
          1,
          1,
          1,
          1,
          1,
          1,
          1,
          1
         ]
        },
        {
         "colorscale": [
          [
           0,
           "#ff0000"
          ],
          [
           1,
           "#ff0000"
          ]
         ],
         "geo": "geo",
         "hovertemplate": "<b>%{hovertext}</b><br><br>Level=Level 4: Do Not Travel<br>CODE=%{location}<extra></extra>",
         "hovertext": [
          "Moldova",
          "Russian Federation",
          "Myanmar",
          "Papua New Guinea",
          "Belarus",
          "South Sudan",
          "Afghanistan",
          "Yemen",
          "Somalia",
          "Haiti",
          "Central African Republic",
          "Syrian Arab Republic",
          "Burkina Faso",
          "Iran, Islamic Republic of",
          "Iraq",
          "Mali",
          "Libya",
          "North Korea",
          "Tonga",
          "Ukraine",
          "Venezuela",
          "Hong Kong",
          "Sudan"
         ],
         "locations": [
          "MDA",
          "RUS",
          "MMR",
          "PNG",
          "BLR",
          "SSD",
          "AFG",
          "YEM",
          "SOM",
          "HTI",
          "CAF",
          "SYR",
          "BFA",
          "IRN",
          "IRQ",
          "MLI",
          "LBY",
          "PRK",
          "TON",
          "UKR",
          "VEN",
          "HKG",
          "SDN"
         ],
         "name": "Level 4: Do Not Travel",
         "showlegend": true,
         "showscale": false,
         "type": "choropleth",
         "z": [
          1,
          1,
          1,
          1,
          1,
          1,
          1,
          1,
          1,
          1,
          1,
          1,
          1,
          1,
          1,
          1,
          1,
          1,
          1,
          1,
          1,
          1,
          1
         ]
        },
        {
         "colorscale": [
          [
           0,
           "black"
          ],
          [
           1,
           "black"
          ]
         ],
         "geo": "geo",
         "hovertemplate": "<b>%{hovertext}</b><br><br>Level=Other<br>CODE=%{location}<extra></extra>",
         "hovertext": [
          "Mexico"
         ],
         "locations": [
          "MEX"
         ],
         "name": "Other",
         "showlegend": true,
         "showscale": false,
         "type": "choropleth",
         "z": [
          1
         ]
        }
       ],
       "layout": {
        "geo": {
         "center": {},
         "domain": {
          "x": [
           0,
           1
          ],
          "y": [
           0,
           1
          ]
         }
        },
        "legend": {
         "title": {
          "text": "Level"
         },
         "tracegroupgap": 0
        },
        "margin": {
         "t": 60
        },
        "template": {
         "data": {
          "bar": [
           {
            "error_x": {
             "color": "#2a3f5f"
            },
            "error_y": {
             "color": "#2a3f5f"
            },
            "marker": {
             "line": {
              "color": "#E5ECF6",
              "width": 0.5
             },
             "pattern": {
              "fillmode": "overlay",
              "size": 10,
              "solidity": 0.2
             }
            },
            "type": "bar"
           }
          ],
          "barpolar": [
           {
            "marker": {
             "line": {
              "color": "#E5ECF6",
              "width": 0.5
             },
             "pattern": {
              "fillmode": "overlay",
              "size": 10,
              "solidity": 0.2
             }
            },
            "type": "barpolar"
           }
          ],
          "carpet": [
           {
            "aaxis": {
             "endlinecolor": "#2a3f5f",
             "gridcolor": "white",
             "linecolor": "white",
             "minorgridcolor": "white",
             "startlinecolor": "#2a3f5f"
            },
            "baxis": {
             "endlinecolor": "#2a3f5f",
             "gridcolor": "white",
             "linecolor": "white",
             "minorgridcolor": "white",
             "startlinecolor": "#2a3f5f"
            },
            "type": "carpet"
           }
          ],
          "choropleth": [
           {
            "colorbar": {
             "outlinewidth": 0,
             "ticks": ""
            },
            "type": "choropleth"
           }
          ],
          "contour": [
           {
            "colorbar": {
             "outlinewidth": 0,
             "ticks": ""
            },
            "colorscale": [
             [
              0,
              "#0d0887"
             ],
             [
              0.1111111111111111,
              "#46039f"
             ],
             [
              0.2222222222222222,
              "#7201a8"
             ],
             [
              0.3333333333333333,
              "#9c179e"
             ],
             [
              0.4444444444444444,
              "#bd3786"
             ],
             [
              0.5555555555555556,
              "#d8576b"
             ],
             [
              0.6666666666666666,
              "#ed7953"
             ],
             [
              0.7777777777777778,
              "#fb9f3a"
             ],
             [
              0.8888888888888888,
              "#fdca26"
             ],
             [
              1,
              "#f0f921"
             ]
            ],
            "type": "contour"
           }
          ],
          "contourcarpet": [
           {
            "colorbar": {
             "outlinewidth": 0,
             "ticks": ""
            },
            "type": "contourcarpet"
           }
          ],
          "heatmap": [
           {
            "colorbar": {
             "outlinewidth": 0,
             "ticks": ""
            },
            "colorscale": [
             [
              0,
              "#0d0887"
             ],
             [
              0.1111111111111111,
              "#46039f"
             ],
             [
              0.2222222222222222,
              "#7201a8"
             ],
             [
              0.3333333333333333,
              "#9c179e"
             ],
             [
              0.4444444444444444,
              "#bd3786"
             ],
             [
              0.5555555555555556,
              "#d8576b"
             ],
             [
              0.6666666666666666,
              "#ed7953"
             ],
             [
              0.7777777777777778,
              "#fb9f3a"
             ],
             [
              0.8888888888888888,
              "#fdca26"
             ],
             [
              1,
              "#f0f921"
             ]
            ],
            "type": "heatmap"
           }
          ],
          "heatmapgl": [
           {
            "colorbar": {
             "outlinewidth": 0,
             "ticks": ""
            },
            "colorscale": [
             [
              0,
              "#0d0887"
             ],
             [
              0.1111111111111111,
              "#46039f"
             ],
             [
              0.2222222222222222,
              "#7201a8"
             ],
             [
              0.3333333333333333,
              "#9c179e"
             ],
             [
              0.4444444444444444,
              "#bd3786"
             ],
             [
              0.5555555555555556,
              "#d8576b"
             ],
             [
              0.6666666666666666,
              "#ed7953"
             ],
             [
              0.7777777777777778,
              "#fb9f3a"
             ],
             [
              0.8888888888888888,
              "#fdca26"
             ],
             [
              1,
              "#f0f921"
             ]
            ],
            "type": "heatmapgl"
           }
          ],
          "histogram": [
           {
            "marker": {
             "pattern": {
              "fillmode": "overlay",
              "size": 10,
              "solidity": 0.2
             }
            },
            "type": "histogram"
           }
          ],
          "histogram2d": [
           {
            "colorbar": {
             "outlinewidth": 0,
             "ticks": ""
            },
            "colorscale": [
             [
              0,
              "#0d0887"
             ],
             [
              0.1111111111111111,
              "#46039f"
             ],
             [
              0.2222222222222222,
              "#7201a8"
             ],
             [
              0.3333333333333333,
              "#9c179e"
             ],
             [
              0.4444444444444444,
              "#bd3786"
             ],
             [
              0.5555555555555556,
              "#d8576b"
             ],
             [
              0.6666666666666666,
              "#ed7953"
             ],
             [
              0.7777777777777778,
              "#fb9f3a"
             ],
             [
              0.8888888888888888,
              "#fdca26"
             ],
             [
              1,
              "#f0f921"
             ]
            ],
            "type": "histogram2d"
           }
          ],
          "histogram2dcontour": [
           {
            "colorbar": {
             "outlinewidth": 0,
             "ticks": ""
            },
            "colorscale": [
             [
              0,
              "#0d0887"
             ],
             [
              0.1111111111111111,
              "#46039f"
             ],
             [
              0.2222222222222222,
              "#7201a8"
             ],
             [
              0.3333333333333333,
              "#9c179e"
             ],
             [
              0.4444444444444444,
              "#bd3786"
             ],
             [
              0.5555555555555556,
              "#d8576b"
             ],
             [
              0.6666666666666666,
              "#ed7953"
             ],
             [
              0.7777777777777778,
              "#fb9f3a"
             ],
             [
              0.8888888888888888,
              "#fdca26"
             ],
             [
              1,
              "#f0f921"
             ]
            ],
            "type": "histogram2dcontour"
           }
          ],
          "mesh3d": [
           {
            "colorbar": {
             "outlinewidth": 0,
             "ticks": ""
            },
            "type": "mesh3d"
           }
          ],
          "parcoords": [
           {
            "line": {
             "colorbar": {
              "outlinewidth": 0,
              "ticks": ""
             }
            },
            "type": "parcoords"
           }
          ],
          "pie": [
           {
            "automargin": true,
            "type": "pie"
           }
          ],
          "scatter": [
           {
            "marker": {
             "colorbar": {
              "outlinewidth": 0,
              "ticks": ""
             }
            },
            "type": "scatter"
           }
          ],
          "scatter3d": [
           {
            "line": {
             "colorbar": {
              "outlinewidth": 0,
              "ticks": ""
             }
            },
            "marker": {
             "colorbar": {
              "outlinewidth": 0,
              "ticks": ""
             }
            },
            "type": "scatter3d"
           }
          ],
          "scattercarpet": [
           {
            "marker": {
             "colorbar": {
              "outlinewidth": 0,
              "ticks": ""
             }
            },
            "type": "scattercarpet"
           }
          ],
          "scattergeo": [
           {
            "marker": {
             "colorbar": {
              "outlinewidth": 0,
              "ticks": ""
             }
            },
            "type": "scattergeo"
           }
          ],
          "scattergl": [
           {
            "marker": {
             "colorbar": {
              "outlinewidth": 0,
              "ticks": ""
             }
            },
            "type": "scattergl"
           }
          ],
          "scattermapbox": [
           {
            "marker": {
             "colorbar": {
              "outlinewidth": 0,
              "ticks": ""
             }
            },
            "type": "scattermapbox"
           }
          ],
          "scatterpolar": [
           {
            "marker": {
             "colorbar": {
              "outlinewidth": 0,
              "ticks": ""
             }
            },
            "type": "scatterpolar"
           }
          ],
          "scatterpolargl": [
           {
            "marker": {
             "colorbar": {
              "outlinewidth": 0,
              "ticks": ""
             }
            },
            "type": "scatterpolargl"
           }
          ],
          "scatterternary": [
           {
            "marker": {
             "colorbar": {
              "outlinewidth": 0,
              "ticks": ""
             }
            },
            "type": "scatterternary"
           }
          ],
          "surface": [
           {
            "colorbar": {
             "outlinewidth": 0,
             "ticks": ""
            },
            "colorscale": [
             [
              0,
              "#0d0887"
             ],
             [
              0.1111111111111111,
              "#46039f"
             ],
             [
              0.2222222222222222,
              "#7201a8"
             ],
             [
              0.3333333333333333,
              "#9c179e"
             ],
             [
              0.4444444444444444,
              "#bd3786"
             ],
             [
              0.5555555555555556,
              "#d8576b"
             ],
             [
              0.6666666666666666,
              "#ed7953"
             ],
             [
              0.7777777777777778,
              "#fb9f3a"
             ],
             [
              0.8888888888888888,
              "#fdca26"
             ],
             [
              1,
              "#f0f921"
             ]
            ],
            "type": "surface"
           }
          ],
          "table": [
           {
            "cells": {
             "fill": {
              "color": "#EBF0F8"
             },
             "line": {
              "color": "white"
             }
            },
            "header": {
             "fill": {
              "color": "#C8D4E3"
             },
             "line": {
              "color": "white"
             }
            },
            "type": "table"
           }
          ]
         },
         "layout": {
          "annotationdefaults": {
           "arrowcolor": "#2a3f5f",
           "arrowhead": 0,
           "arrowwidth": 1
          },
          "autotypenumbers": "strict",
          "coloraxis": {
           "colorbar": {
            "outlinewidth": 0,
            "ticks": ""
           }
          },
          "colorscale": {
           "diverging": [
            [
             0,
             "#8e0152"
            ],
            [
             0.1,
             "#c51b7d"
            ],
            [
             0.2,
             "#de77ae"
            ],
            [
             0.3,
             "#f1b6da"
            ],
            [
             0.4,
             "#fde0ef"
            ],
            [
             0.5,
             "#f7f7f7"
            ],
            [
             0.6,
             "#e6f5d0"
            ],
            [
             0.7,
             "#b8e186"
            ],
            [
             0.8,
             "#7fbc41"
            ],
            [
             0.9,
             "#4d9221"
            ],
            [
             1,
             "#276419"
            ]
           ],
           "sequential": [
            [
             0,
             "#0d0887"
            ],
            [
             0.1111111111111111,
             "#46039f"
            ],
            [
             0.2222222222222222,
             "#7201a8"
            ],
            [
             0.3333333333333333,
             "#9c179e"
            ],
            [
             0.4444444444444444,
             "#bd3786"
            ],
            [
             0.5555555555555556,
             "#d8576b"
            ],
            [
             0.6666666666666666,
             "#ed7953"
            ],
            [
             0.7777777777777778,
             "#fb9f3a"
            ],
            [
             0.8888888888888888,
             "#fdca26"
            ],
            [
             1,
             "#f0f921"
            ]
           ],
           "sequentialminus": [
            [
             0,
             "#0d0887"
            ],
            [
             0.1111111111111111,
             "#46039f"
            ],
            [
             0.2222222222222222,
             "#7201a8"
            ],
            [
             0.3333333333333333,
             "#9c179e"
            ],
            [
             0.4444444444444444,
             "#bd3786"
            ],
            [
             0.5555555555555556,
             "#d8576b"
            ],
            [
             0.6666666666666666,
             "#ed7953"
            ],
            [
             0.7777777777777778,
             "#fb9f3a"
            ],
            [
             0.8888888888888888,
             "#fdca26"
            ],
            [
             1,
             "#f0f921"
            ]
           ]
          },
          "colorway": [
           "#636efa",
           "#EF553B",
           "#00cc96",
           "#ab63fa",
           "#FFA15A",
           "#19d3f3",
           "#FF6692",
           "#B6E880",
           "#FF97FF",
           "#FECB52"
          ],
          "font": {
           "color": "#2a3f5f"
          },
          "geo": {
           "bgcolor": "white",
           "lakecolor": "white",
           "landcolor": "#E5ECF6",
           "showlakes": true,
           "showland": true,
           "subunitcolor": "white"
          },
          "hoverlabel": {
           "align": "left"
          },
          "hovermode": "closest",
          "mapbox": {
           "style": "light"
          },
          "paper_bgcolor": "white",
          "plot_bgcolor": "#E5ECF6",
          "polar": {
           "angularaxis": {
            "gridcolor": "white",
            "linecolor": "white",
            "ticks": ""
           },
           "bgcolor": "#E5ECF6",
           "radialaxis": {
            "gridcolor": "white",
            "linecolor": "white",
            "ticks": ""
           }
          },
          "scene": {
           "xaxis": {
            "backgroundcolor": "#E5ECF6",
            "gridcolor": "white",
            "gridwidth": 2,
            "linecolor": "white",
            "showbackground": true,
            "ticks": "",
            "zerolinecolor": "white"
           },
           "yaxis": {
            "backgroundcolor": "#E5ECF6",
            "gridcolor": "white",
            "gridwidth": 2,
            "linecolor": "white",
            "showbackground": true,
            "ticks": "",
            "zerolinecolor": "white"
           },
           "zaxis": {
            "backgroundcolor": "#E5ECF6",
            "gridcolor": "white",
            "gridwidth": 2,
            "linecolor": "white",
            "showbackground": true,
            "ticks": "",
            "zerolinecolor": "white"
           }
          },
          "shapedefaults": {
           "line": {
            "color": "#2a3f5f"
           }
          },
          "ternary": {
           "aaxis": {
            "gridcolor": "white",
            "linecolor": "white",
            "ticks": ""
           },
           "baxis": {
            "gridcolor": "white",
            "linecolor": "white",
            "ticks": ""
           },
           "bgcolor": "#E5ECF6",
           "caxis": {
            "gridcolor": "white",
            "linecolor": "white",
            "ticks": ""
           }
          },
          "title": {
           "x": 0.05
          },
          "xaxis": {
           "automargin": true,
           "gridcolor": "white",
           "linecolor": "white",
           "ticks": "",
           "title": {
            "standoff": 15
           },
           "zerolinecolor": "white",
           "zerolinewidth": 2
          },
          "yaxis": {
           "automargin": true,
           "gridcolor": "white",
           "linecolor": "white",
           "ticks": "",
           "title": {
            "standoff": 15
           },
           "zerolinecolor": "white",
           "zerolinewidth": 2
          }
         }
        }
       }
      }
     },
     "metadata": {},
     "output_type": "display_data"
    }
   ],
   "source": [
    "%matplotlib\n",
    "fig = px.choropleth(df, locations=\"CODE\", color=\"Level\", hover_name=\"Country\", color_discrete_sequence=[\"#003875\", \"#ffcc66\", \"#ff9900\", \"#ff0000\", \"black\"])\n",
    "fig.show()"
   ]
  },
  {
   "cell_type": "code",
   "execution_count": null,
   "metadata": {},
   "outputs": [],
   "source": []
  }
 ],
 "metadata": {
  "interpreter": {
   "hash": "01c86fc3a30789b682a94d68767c5dd1b24d049beb92798c5e68460c8f8d0c9c"
  },
  "kernelspec": {
   "display_name": "Python 3.8.8 ('base')",
   "language": "python",
   "name": "python3"
  },
  "language_info": {
   "codemirror_mode": {
    "name": "ipython",
    "version": 3
   },
   "file_extension": ".py",
   "mimetype": "text/x-python",
   "name": "python",
   "nbconvert_exporter": "python",
   "pygments_lexer": "ipython3",
   "version": "3.8.8"
  },
  "orig_nbformat": 4
 },
 "nbformat": 4,
 "nbformat_minor": 2
}
